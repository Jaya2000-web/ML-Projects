{
 "cells": [
  {
   "cell_type": "code",
   "execution_count": 1,
   "metadata": {
    "colab": {
     "base_uri": "https://localhost:8080/"
    },
    "id": "12SyIOcbwPJv",
    "outputId": "b968612d-3f57-423d-fc68-9de4d9e0e42f"
   },
   "outputs": [
    {
     "ename": "ModuleNotFoundError",
     "evalue": "No module named 'yfinance'",
     "output_type": "error",
     "traceback": [
      "\u001b[1;31m---------------------------------------------------------------------------\u001b[0m",
      "\u001b[1;31mModuleNotFoundError\u001b[0m                       Traceback (most recent call last)",
      "Cell \u001b[1;32mIn[1], line 2\u001b[0m\n\u001b[0;32m      1\u001b[0m \u001b[38;5;28;01mimport\u001b[39;00m \u001b[38;5;21;01mpandas\u001b[39;00m \u001b[38;5;28;01mas\u001b[39;00m \u001b[38;5;21;01mpd\u001b[39;00m\n\u001b[1;32m----> 2\u001b[0m \u001b[38;5;28;01mimport\u001b[39;00m \u001b[38;5;21;01myfinance\u001b[39;00m \u001b[38;5;28;01mas\u001b[39;00m \u001b[38;5;21;01myf\u001b[39;00m\n\u001b[0;32m      3\u001b[0m \u001b[38;5;28;01mimport\u001b[39;00m \u001b[38;5;21;01mdatetime\u001b[39;00m\n\u001b[0;32m      4\u001b[0m \u001b[38;5;28;01mfrom\u001b[39;00m \u001b[38;5;21;01mdatetime\u001b[39;00m \u001b[38;5;28;01mimport\u001b[39;00m date, timedelta\n",
      "\u001b[1;31mModuleNotFoundError\u001b[0m: No module named 'yfinance'"
     ]
    }
   ],
   "source": [
    "import pandas as pd\n",
    "import yfinance as yf\n",
    "import datetime\n",
    "from datetime import date, timedelta\n",
    "today = date.today()\n",
    "\n",
    "d1 = today.strftime(\"%Y-%m-%d\")\n",
    "end_date = d1\n",
    "d2 = date.today() - timedelta(days=720)\n",
    "d2 = d2.strftime(\"%Y-%m-%d\")\n",
    "start_date = d2\n",
    "\n",
    "data = yf.download('RELIANCE.NS',\n",
    "                      start=start_date,\n",
    "                      end=end_date,\n",
    "                      progress=False)\n",
    "print(data.tail())"
   ]
  },
  {
   "cell_type": "code",
   "execution_count": null,
   "metadata": {
    "colab": {
     "base_uri": "https://localhost:8080/",
     "height": 542
    },
    "id": "EtCnBi_myL8U",
    "outputId": "4b43e052-8074-4976-ab46-333087a66cfb"
   },
   "outputs": [],
   "source": [
    "import plotly.express as px\n",
    "figure = px.line(data, x = data.index,\n",
    "                 y = \"Close\",\n",
    "                 title = \"Time Series Analysis (Line Plot)\")\n",
    "figure.show()"
   ]
  },
  {
   "cell_type": "code",
   "execution_count": null,
   "metadata": {
    "colab": {
     "base_uri": "https://localhost:8080/",
     "height": 542
    },
    "id": "O2edFKi2yhmE",
    "outputId": "f04eea2d-c81e-459e-d596-c2ad00d33384"
   },
   "outputs": [],
   "source": [
    "import plotly.graph_objects as go\n",
    "figure = go.Figure(data=[go.Candlestick(x = data.index,\n",
    "                                        open = data[\"Open\"],\n",
    "                                        high = data[\"High\"],\n",
    "                                        low = data[\"Low\"],\n",
    "                                        close = data[\"Close\"])])\n",
    "figure.update_layout(title = \"Time Series Analysis (Candlestick Chart)\",\n",
    "                     xaxis_rangeslider_visible = False)\n",
    "figure.show()"
   ]
  },
  {
   "cell_type": "code",
   "execution_count": null,
   "metadata": {
    "colab": {
     "base_uri": "https://localhost:8080/",
     "height": 542
    },
    "id": "nmsHibqb2OlO",
    "outputId": "a93a3637-befb-485f-91f3-880ab0341d45"
   },
   "outputs": [],
   "source": [
    "figure = px.bar(data, x = data.index,\n",
    "                y = \"Close\",\n",
    "                title = \"Time Series Analysis (Bar Plot)\" )\n",
    "figure.show()"
   ]
  },
  {
   "cell_type": "code",
   "execution_count": null,
   "metadata": {
    "colab": {
     "base_uri": "https://localhost:8080/",
     "height": 542
    },
    "id": "ksFkeeNO2Cuz",
    "outputId": "ecb3da96-d1a3-4f0f-dc0f-eb1f92d22906"
   },
   "outputs": [],
   "source": [
    "figure = px.line(data, x = data.index,\n",
    "                 y = 'Close',\n",
    "                 range_x = ['2022-07-01','2023-12-31'],\n",
    "                 title = \"Time Series Analysis (Custom Date Range)\")\n",
    "figure.show()"
   ]
  },
  {
   "cell_type": "code",
   "execution_count": null,
   "metadata": {
    "colab": {
     "base_uri": "https://localhost:8080/",
     "height": 542
    },
    "id": "_ydbT8U-21O0",
    "outputId": "384a680d-91a1-4864-bd18-4d4e58452548"
   },
   "outputs": [],
   "source": [
    "figure = go.Figure(data = [go.Candlestick(x = data.index,\n",
    "                                        open = data[\"Open\"],\n",
    "                                        high = data[\"High\"],\n",
    "                                        low = data[\"Low\"],\n",
    "                                        close = data[\"Close\"])])\n",
    "figure.update_layout(title = \"Time Series Analysis (Candlestick Chart with Buttons and Slider)\")\n",
    "\n",
    "figure.update_xaxes(\n",
    "    rangeslider_visible = True,\n",
    "    rangeselector = dict(\n",
    "        buttons = list([\n",
    "            dict(count = 1, label = \"1m\", step = \"month\", stepmode = \"backward\"),\n",
    "            dict(count = 6, label = \"6m\", step = \"month\", stepmode = \"backward\"),\n",
    "            dict(count = 1, label = \"YTD\", step = \"year\", stepmode = \"todate\"),\n",
    "            dict(count = 1, label = \"1y\", step = \"year\", stepmode = \"backward\"),\n",
    "            dict(step = \"all\")\n",
    "        ])\n",
    "    )\n",
    ")\n",
    "figure.show()"
   ]
  }
 ],
 "metadata": {
  "colab": {
   "provenance": []
  },
  "kernelspec": {
   "display_name": "Python 3 (ipykernel)",
   "language": "python",
   "name": "python3"
  },
  "language_info": {
   "codemirror_mode": {
    "name": "ipython",
    "version": 3
   },
   "file_extension": ".py",
   "mimetype": "text/x-python",
   "name": "python",
   "nbconvert_exporter": "python",
   "pygments_lexer": "ipython3",
   "version": "3.10.9"
  },
  "varInspector": {
   "cols": {
    "lenName": 16,
    "lenType": 16,
    "lenVar": 40
   },
   "kernels_config": {
    "python": {
     "delete_cmd_postfix": "",
     "delete_cmd_prefix": "del ",
     "library": "var_list.py",
     "varRefreshCmd": "print(var_dic_list())"
    },
    "r": {
     "delete_cmd_postfix": ") ",
     "delete_cmd_prefix": "rm(",
     "library": "var_list.r",
     "varRefreshCmd": "cat(var_dic_list()) "
    }
   },
   "types_to_exclude": [
    "module",
    "function",
    "builtin_function_or_method",
    "instance",
    "_Feature"
   ],
   "window_display": false
  }
 },
 "nbformat": 4,
 "nbformat_minor": 1
}
